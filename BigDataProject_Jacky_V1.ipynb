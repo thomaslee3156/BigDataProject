{
 "cells": [
  {
   "cell_type": "code",
   "execution_count": 17,
   "id": "01e59ca3",
   "metadata": {},
   "outputs": [],
   "source": [
    "import numpy as np\n",
    "from sklearn.decomposition import PCA\n",
    "from sklearn.discriminant_analysis import LinearDiscriminantAnalysis\n",
    "from sklearn.metrics import f1_score\n",
    "from sklearn.model_selection import cross_val_score\n",
    "\n",
    "from sklearn.svm import SVC\n",
    "from sklearn.ensemble import RandomForestClassifier, AdaBoostClassifier\n",
    "\n",
    "random_state = 99\n",
    "cv = 3"
   ]
  },
  {
   "cell_type": "code",
   "execution_count": 4,
   "id": "90a12bb9",
   "metadata": {},
   "outputs": [
    {
     "name": "stdout",
     "output_type": "stream",
     "text": [
      "(7352, 561)\n",
      "(2947, 561)\n",
      "(7352,)\n",
      "(2947,)\n"
     ]
    }
   ],
   "source": [
    "X_train = np.loadtxt(\"X_train.txt\")\n",
    "X_test = np.loadtxt(\"X_test.txt\")\n",
    "y_train = np.loadtxt(\"y_train.txt\")\n",
    "y_test = np.loadtxt(\"y_test.txt\")\n",
    "\n",
    "print(X_train.shape)\n",
    "print(X_test.shape)\n",
    "print(y_train.shape)\n",
    "print(y_test.shape)"
   ]
  },
  {
   "cell_type": "code",
   "execution_count": 5,
   "id": "5415468c",
   "metadata": {},
   "outputs": [
    {
     "name": "stdout",
     "output_type": "stream",
     "text": [
      "(7352, 470)\n",
      "(2947, 470)\n",
      "(7352, 5)\n",
      "(2947, 5)\n"
     ]
    }
   ],
   "source": [
    "pca = PCA(n_components='mle', random_state=random_state)\n",
    "lda = LinearDiscriminantAnalysis()\n",
    "\n",
    "pca = pca.fit(X_train)\n",
    "lda = lda.fit(X_train, y_train)\n",
    "\n",
    "pca_train = pca.transform(X_train)\n",
    "pca_test = pca.transform(X_test)\n",
    "lda_train = lda.transform(X_train)\n",
    "lda_test = lda.transform(X_test)\n",
    "\n",
    "print(pca_train.shape)\n",
    "print(pca_test.shape)\n",
    "print(lda_train.shape)\n",
    "print(lda_test.shape)"
   ]
  },
  {
   "cell_type": "code",
   "execution_count": 7,
   "id": "1f898ac0",
   "metadata": {},
   "outputs": [
    {
     "name": "stdout",
     "output_type": "stream",
     "text": [
      "0.9562266711910418\n",
      "0.9650492025788938\n"
     ]
    }
   ],
   "source": [
    "svc_pca = SVC(random_state=random_state)\n",
    "svc_pca = svc_pca.fit(pca_train, y_train)\n",
    "svc_pca_predict = svc_pca.predict(pca_test)\n",
    "svc_pca_score = f1_score(y_test, svc_pca_predict, average='micro')\n",
    "print(svc_pca_score)\n",
    "\n",
    "\n",
    "svc_lda = SVC(random_state=random_state)\n",
    "svc_lda = svc_lda.fit(lda_train, y_train)\n",
    "svc_lda_predict = svc_lda.predict(lda_test)\n",
    "svc_lda_score = f1_score(y_test, svc_lda_predict, average='micro')\n",
    "print(svc_lda_score)"
   ]
  },
  {
   "cell_type": "code",
   "execution_count": 8,
   "id": "34d8b499",
   "metadata": {},
   "outputs": [
    {
     "name": "stdout",
     "output_type": "stream",
     "text": [
      "0.8785205293518833\n",
      "0.9633525619273838\n"
     ]
    }
   ],
   "source": [
    "rf_pca = RandomForestClassifier(random_state=random_state)\n",
    "rf_pca = rf_pca.fit(pca_train, y_train)\n",
    "rf_pca_predict = rf_pca.predict(pca_test)\n",
    "rf_pca_score = f1_score(y_test, rf_pca_predict, average='micro')\n",
    "print(rf_pca_score)\n",
    "\n",
    "\n",
    "rf_lda = RandomForestClassifier(random_state=random_state)\n",
    "rf_lda = rf_lda.fit(lda_train, y_train)\n",
    "rf_lda_predict = rf_lda.predict(lda_test)\n",
    "rf_lda_score = f1_score(y_test, rf_lda_predict, average='micro')\n",
    "print(rf_lda_score)"
   ]
  },
  {
   "cell_type": "code",
   "execution_count": 9,
   "id": "f8e989a6",
   "metadata": {},
   "outputs": [
    {
     "name": "stdout",
     "output_type": "stream",
     "text": [
      "0.5191720393620631\n",
      "0.684085510688836\n"
     ]
    }
   ],
   "source": [
    "ab_pca = AdaBoostClassifier(random_state=random_state)\n",
    "ab_pca = ab_pca.fit(pca_train, y_train)\n",
    "ab_pca_predict = ab_pca.predict(pca_test)\n",
    "ab_pca_score = f1_score(y_test, ab_pca_predict, average='micro')\n",
    "print(ab_pca_score)\n",
    "\n",
    "\n",
    "ab_lda = AdaBoostClassifier(random_state=random_state)\n",
    "ab_lda = ab_lda.fit(lda_train, y_train)\n",
    "ab_lda_predict = ab_lda.predict(lda_test)\n",
    "ab_lda_score = f1_score(y_test, ab_lda_predict, average='micro')\n",
    "print(ab_lda_score)"
   ]
  },
  {
   "cell_type": "code",
   "execution_count": 16,
   "id": "d54a3637",
   "metadata": {},
   "outputs": [
    {
     "name": "stdout",
     "output_type": "stream",
     "text": [
      "SVC CV (PCA):  [0.94532844 0.91350469 0.95346939]\n",
      "SVC CV (LDA):  [0.98572011 0.98000816 0.99183673]\n",
      "RF CV (PCA):  [0.8620971  0.85108119 0.87428571]\n",
      "RF CV (LDA):  [0.98327213 0.98164015 0.98897959]\n",
      "AB CV (PCA):  [0.5246838  0.34149327 0.54326531]\n",
      "AB CV (LDA):  [0.8127295  0.82374541 0.68489796]\n"
     ]
    }
   ],
   "source": [
    "cv = 3\n",
    "\n",
    "cv_svc_pca = cross_val_score(svc_pca, pca_train, y_train, cv=cv)\n",
    "cv_svc_lda = cross_val_score(svc_lda, lda_train, y_train, cv=cv)\n",
    "cv_rf_pca = cross_val_score(rf_pca, pca_train, y_train, cv=cv)\n",
    "cv_rf_lda = cross_val_score(rf_lda, lda_train, y_train, cv=cv)\n",
    "cv_ab_pca = cross_val_score(ab_pca, pca_train, y_train, cv=cv)\n",
    "cv_ab_lda = cross_val_score(ab_lda, lda_train, y_train, cv=cv)\n",
    "\n",
    "print(\"SVC CV (PCA): \", cv_svc_pca)\n",
    "print(\"SVC CV (LDA): \", cv_svc_lda)\n",
    "print(\"RF CV (PCA): \", cv_rf_pca)\n",
    "print(\"RF CV (LDA): \", cv_rf_lda)\n",
    "print(\"AB CV (PCA): \", cv_ab_pca)\n",
    "print(\"AB CV (LDA): \", cv_ab_lda)"
   ]
  },
  {
   "cell_type": "code",
   "execution_count": 18,
   "id": "1a43e059",
   "metadata": {},
   "outputs": [
    {
     "name": "stdout",
     "output_type": "stream",
     "text": [
      "SVC CV (PCA):  [0.93471164 0.90914037 0.9265506  0.96626768]\n",
      "SVC CV (LDA):  [0.98095756 0.97878128 0.99075082 0.99347116]\n",
      "RF CV (PCA):  [0.86942329 0.84874864 0.81936888 0.90533188]\n",
      "RF CV (LDA):  [0.97986942 0.98095756 0.98966268 0.98857454]\n",
      "AB CV (PCA):  [0.55440696 0.53373232 0.54352557 0.53917301]\n",
      "AB CV (LDA):  [0.80903156 0.82100109 0.81828074 0.81991295]\n"
     ]
    }
   ],
   "source": [
    "cv = 4\n",
    "\n",
    "cv_svc_pca = cross_val_score(svc_pca, pca_train, y_train, cv=cv)\n",
    "cv_svc_lda = cross_val_score(svc_lda, lda_train, y_train, cv=cv)\n",
    "cv_rf_pca = cross_val_score(rf_pca, pca_train, y_train, cv=cv)\n",
    "cv_rf_lda = cross_val_score(rf_lda, lda_train, y_train, cv=cv)\n",
    "cv_ab_pca = cross_val_score(ab_pca, pca_train, y_train, cv=cv)\n",
    "cv_ab_lda = cross_val_score(ab_lda, lda_train, y_train, cv=cv)\n",
    "\n",
    "print(\"SVC CV (PCA): \", cv_svc_pca)\n",
    "print(\"SVC CV (LDA): \", cv_svc_lda)\n",
    "print(\"RF CV (PCA): \", cv_rf_pca)\n",
    "print(\"RF CV (LDA): \", cv_rf_lda)\n",
    "print(\"AB CV (PCA): \", cv_ab_pca)\n",
    "print(\"AB CV (LDA): \", cv_ab_lda)"
   ]
  },
  {
   "cell_type": "code",
   "execution_count": null,
   "id": "0db8741d",
   "metadata": {},
   "outputs": [],
   "source": []
  }
 ],
 "metadata": {
  "kernelspec": {
   "display_name": "Python 3 (ipykernel)",
   "language": "python",
   "name": "python3"
  },
  "language_info": {
   "codemirror_mode": {
    "name": "ipython",
    "version": 3
   },
   "file_extension": ".py",
   "mimetype": "text/x-python",
   "name": "python",
   "nbconvert_exporter": "python",
   "pygments_lexer": "ipython3",
   "version": "3.9.7"
  }
 },
 "nbformat": 4,
 "nbformat_minor": 5
}
